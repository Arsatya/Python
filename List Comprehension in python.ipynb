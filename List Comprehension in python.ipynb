{
 "cells": [
  {
   "cell_type": "code",
   "execution_count": 3,
   "id": "f918f15a",
   "metadata": {},
   "outputs": [],
   "source": [
    "mystring=\"Hello World\"\n",
    "mylist=[]\n",
    "for letter in mystring:\n",
    "    mylist.append(letter)\n",
    "    "
   ]
  },
  {
   "cell_type": "code",
   "execution_count": 4,
   "id": "de5aa6e2",
   "metadata": {},
   "outputs": [
    {
     "data": {
      "text/plain": [
       "['H', 'e', 'l', 'l', 'o', ' ', 'W', 'o', 'r', 'l', 'd']"
      ]
     },
     "execution_count": 4,
     "metadata": {},
     "output_type": "execute_result"
    }
   ],
   "source": [
    "mylist"
   ]
  },
  {
   "cell_type": "code",
   "execution_count": 7,
   "id": "619a8537",
   "metadata": {},
   "outputs": [],
   "source": [
    "mylist =[srbn for srbn in \"South Asia\"]"
   ]
  },
  {
   "cell_type": "code",
   "execution_count": 8,
   "id": "6228e4aa",
   "metadata": {},
   "outputs": [
    {
     "data": {
      "text/plain": [
       "['S', 'o', 'u', 't', 'h', ' ', 'A', 's', 'i', 'a']"
      ]
     },
     "execution_count": 8,
     "metadata": {},
     "output_type": "execute_result"
    }
   ],
   "source": [
    "mylist"
   ]
  },
  {
   "cell_type": "code",
   "execution_count": 12,
   "id": "73b1b68d",
   "metadata": {},
   "outputs": [],
   "source": [
    "mylist = [num**2 for num in range(0,11)]\n"
   ]
  },
  {
   "cell_type": "code",
   "execution_count": 13,
   "id": "33b6258d",
   "metadata": {},
   "outputs": [
    {
     "data": {
      "text/plain": [
       "[0, 1, 4, 9, 16, 25, 36, 49, 64, 81, 100]"
      ]
     },
     "execution_count": 13,
     "metadata": {},
     "output_type": "execute_result"
    }
   ],
   "source": [
    "mylist"
   ]
  },
  {
   "cell_type": "code",
   "execution_count": 16,
   "id": "f0d86ce3",
   "metadata": {},
   "outputs": [],
   "source": [
    "mylist=[x**2 for x in range(0,11)if x%2==0]"
   ]
  },
  {
   "cell_type": "code",
   "execution_count": 17,
   "id": "341d3d8c",
   "metadata": {},
   "outputs": [
    {
     "data": {
      "text/plain": [
       "[0, 4, 16, 36, 64, 100]"
      ]
     },
     "execution_count": 17,
     "metadata": {},
     "output_type": "execute_result"
    }
   ],
   "source": [
    "mylist"
   ]
  },
  {
   "cell_type": "code",
   "execution_count": 18,
   "id": "a083c68c",
   "metadata": {},
   "outputs": [],
   "source": [
    "celcius=[0,10,25,100,35,48]\n",
    "\n",
    "farenheit=[((9/5)*temp)+32 for temp in celcius]"
   ]
  },
  {
   "cell_type": "code",
   "execution_count": 19,
   "id": "ae139a63",
   "metadata": {},
   "outputs": [
    {
     "data": {
      "text/plain": [
       "[32.0, 50.0, 77.0, 212.0, 95.0, 118.4]"
      ]
     },
     "execution_count": 19,
     "metadata": {},
     "output_type": "execute_result"
    }
   ],
   "source": [
    "farenheit"
   ]
  },
  {
   "cell_type": "code",
   "execution_count": 20,
   "id": "aaa13ceb",
   "metadata": {},
   "outputs": [],
   "source": [
    "farenheit=[]\n",
    "for temp in celcius:\n",
    "    farenheit.append(((9/5)*temp)+32)\n",
    "    "
   ]
  },
  {
   "cell_type": "code",
   "execution_count": 21,
   "id": "3bbdc933",
   "metadata": {},
   "outputs": [
    {
     "data": {
      "text/plain": [
       "[32.0, 50.0, 77.0, 212.0, 95.0, 118.4]"
      ]
     },
     "execution_count": 21,
     "metadata": {},
     "output_type": "execute_result"
    }
   ],
   "source": [
    "farenheit"
   ]
  },
  {
   "cell_type": "code",
   "execution_count": 22,
   "id": "a874b5b9",
   "metadata": {},
   "outputs": [],
   "source": [
    "result =[x if x%2==0 else \"ODD\" for x in range(0,11)]\n"
   ]
  },
  {
   "cell_type": "code",
   "execution_count": 23,
   "id": "a0921870",
   "metadata": {},
   "outputs": [
    {
     "data": {
      "text/plain": [
       "[0, 'ODD', 2, 'ODD', 4, 'ODD', 6, 'ODD', 8, 'ODD', 10]"
      ]
     },
     "execution_count": 23,
     "metadata": {},
     "output_type": "execute_result"
    }
   ],
   "source": [
    "result"
   ]
  },
  {
   "cell_type": "code",
   "execution_count": null,
   "id": "f3c77c5c",
   "metadata": {},
   "outputs": [],
   "source": [
    "mylist=[]\n",
    "for x in[2,4,8]:\n",
    "    for y in []\n"
   ]
  }
 ],
 "metadata": {
  "kernelspec": {
   "display_name": "Python 3 (ipykernel)",
   "language": "python",
   "name": "python3"
  },
  "language_info": {
   "codemirror_mode": {
    "name": "ipython",
    "version": 3
   },
   "file_extension": ".py",
   "mimetype": "text/x-python",
   "name": "python",
   "nbconvert_exporter": "python",
   "pygments_lexer": "ipython3",
   "version": "3.9.12"
  }
 },
 "nbformat": 4,
 "nbformat_minor": 5
}
