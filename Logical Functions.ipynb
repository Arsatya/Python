{
 "cells": [
  {
   "cell_type": "code",
   "execution_count": 1,
   "id": "01271a25",
   "metadata": {},
   "outputs": [],
   "source": [
    "def even_check(number):\n",
    "    result= number%2==0\n",
    "    return result"
   ]
  },
  {
   "cell_type": "code",
   "execution_count": 2,
   "id": "3667e0fe",
   "metadata": {},
   "outputs": [
    {
     "data": {
      "text/plain": [
       "False"
      ]
     },
     "execution_count": 2,
     "metadata": {},
     "output_type": "execute_result"
    }
   ],
   "source": [
    "even_check(99)"
   ]
  },
  {
   "cell_type": "code",
   "execution_count": 3,
   "id": "0b25318e",
   "metadata": {},
   "outputs": [
    {
     "data": {
      "text/plain": [
       "True"
      ]
     },
     "execution_count": 3,
     "metadata": {},
     "output_type": "execute_result"
    }
   ],
   "source": [
    "even_check(16)"
   ]
  },
  {
   "cell_type": "code",
   "execution_count": 4,
   "id": "5d434665",
   "metadata": {},
   "outputs": [],
   "source": [
    "# Return True if qny no inside a list is even\n",
    "def check_even_list(num_list):\n",
    "    for num in num_list:\n",
    "        if num%2==0:\n",
    "            return True\n",
    "        else:\n",
    "            pass\n",
    "    return False  "
   ]
  },
  {
   "cell_type": "code",
   "execution_count": 6,
   "id": "5982c990",
   "metadata": {},
   "outputs": [
    {
     "data": {
      "text/plain": [
       "True"
      ]
     },
     "execution_count": 6,
     "metadata": {},
     "output_type": "execute_result"
    }
   ],
   "source": [
    "check_even_list([1,2,5,6])"
   ]
  },
  {
   "cell_type": "code",
   "execution_count": 7,
   "id": "4f520f53",
   "metadata": {},
   "outputs": [
    {
     "data": {
      "text/plain": [
       "False"
      ]
     },
     "execution_count": 7,
     "metadata": {},
     "output_type": "execute_result"
    }
   ],
   "source": [
    "check_even_list([5,7,9,11])"
   ]
  },
  {
   "cell_type": "code",
   "execution_count": 8,
   "id": "69f0fdf9",
   "metadata": {},
   "outputs": [
    {
     "data": {
      "text/plain": [
       "True"
      ]
     },
     "execution_count": 8,
     "metadata": {},
     "output_type": "execute_result"
    }
   ],
   "source": [
    "check_even_list([6,7,9])"
   ]
  },
  {
   "cell_type": "code",
   "execution_count": 9,
   "id": "24e0bfa9",
   "metadata": {},
   "outputs": [
    {
     "data": {
      "text/plain": [
       "True"
      ]
     },
     "execution_count": 9,
     "metadata": {},
     "output_type": "execute_result"
    }
   ],
   "source": [
    "check_even_list([9,11,12])"
   ]
  },
  {
   "cell_type": "code",
   "execution_count": 10,
   "id": "385a0b15",
   "metadata": {},
   "outputs": [],
   "source": [
    "#Return all the even no,s in a list"
   ]
  },
  {
   "cell_type": "code",
   "execution_count": 11,
   "id": "e6ae6193",
   "metadata": {},
   "outputs": [],
   "source": [
    "def return_even_nos_in_list(num_list):\n",
    "    \n",
    "    #placeholder variable\n",
    "    even_numbers=[]\n",
    "    \n",
    "    \n",
    "    for num in num_list:\n",
    "        if num%2==0:\n",
    "            even_numbers.append(num)\n",
    "        else:\n",
    "            pass\n",
    "    return even_numbers\n",
    "        "
   ]
  },
  {
   "cell_type": "code",
   "execution_count": 12,
   "id": "25568479",
   "metadata": {},
   "outputs": [
    {
     "data": {
      "text/plain": [
       "[32, 6, 24, 16, 90]"
      ]
     },
     "execution_count": 12,
     "metadata": {},
     "output_type": "execute_result"
    }
   ],
   "source": [
    "return_even_nos_in_list([45,32,6,24,16,89,77,90])"
   ]
  },
  {
   "cell_type": "code",
   "execution_count": 13,
   "id": "46e50717",
   "metadata": {},
   "outputs": [
    {
     "data": {
      "text/plain": [
       "[]"
      ]
     },
     "execution_count": 13,
     "metadata": {},
     "output_type": "execute_result"
    }
   ],
   "source": [
    "return_even_nos_in_list([45,89,23,17])"
   ]
  },
  {
   "cell_type": "code",
   "execution_count": null,
   "id": "3380d875",
   "metadata": {},
   "outputs": [],
   "source": []
  }
 ],
 "metadata": {
  "kernelspec": {
   "display_name": "Python 3 (ipykernel)",
   "language": "python",
   "name": "python3"
  },
  "language_info": {
   "codemirror_mode": {
    "name": "ipython",
    "version": 3
   },
   "file_extension": ".py",
   "mimetype": "text/x-python",
   "name": "python",
   "nbconvert_exporter": "python",
   "pygments_lexer": "ipython3",
   "version": "3.9.12"
  }
 },
 "nbformat": 4,
 "nbformat_minor": 5
}
